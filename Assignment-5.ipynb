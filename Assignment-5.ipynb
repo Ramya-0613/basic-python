{
 "cells": [
  {
   "cell_type": "code",
   "execution_count": 1,
   "id": "6aa51d3f",
   "metadata": {},
   "outputs": [
    {
     "name": "stdout",
     "output_type": "stream",
     "text": [
      "8\n",
      "4\n",
      "the lcm is 8\n"
     ]
    }
   ],
   "source": [
    "def lcm(a,b):\n",
    "    if a>b:\n",
    "        greater=a\n",
    "    else:\n",
    "        greater=b\n",
    "    while(True):\n",
    "        if ((greater%a==0) and (greater%b==0)):\n",
    "            lcm=greater\n",
    "            break\n",
    "        greater+=1\n",
    "    return lcm\n",
    "a=int(input())\n",
    "b=int(input())\n",
    "print(\"the lcm is\", lcm (a,b))\n",
    "            "
   ]
  },
  {
   "cell_type": "code",
   "execution_count": 2,
   "id": "d518e113",
   "metadata": {},
   "outputs": [
    {
     "name": "stdout",
     "output_type": "stream",
     "text": [
      "54\n",
      "24\n"
     ]
    },
    {
     "data": {
      "text/plain": [
       "6"
      ]
     },
     "execution_count": 2,
     "metadata": {},
     "output_type": "execute_result"
    }
   ],
   "source": [
    "def hcf(a,b):\n",
    "    if a>b:\n",
    "        smaller=a\n",
    "    else:\n",
    "        smaller=b\n",
    "    for i in range(1,smaller+1):\n",
    "        if ((a%i==0) and (b%i==0)):\n",
    "            hcf=i\n",
    "    return hcf\n",
    "hcf(int(input()),int(input()))\n",
    "    "
   ]
  },
  {
   "cell_type": "code",
   "execution_count": 2,
   "id": "64ddf765",
   "metadata": {},
   "outputs": [
    {
     "name": "stdout",
     "output_type": "stream",
     "text": [
      "A\n",
      "ASCII value 65\n"
     ]
    }
   ],
   "source": [
    "s=input()\n",
    "print(\"ASCII value\", ord(s))"
   ]
  },
  {
   "cell_type": "code",
   "execution_count": null,
   "id": "adca9e5a",
   "metadata": {},
   "outputs": [
    {
     "name": "stdout",
     "output_type": "stream",
     "text": [
      "12\n"
     ]
    }
   ],
   "source": [
    "def decimaltobinary(n):\n",
    "    if n>=1:\n",
    "        decimaltobinary(n//2)\n",
    "    print(n,end='')\n",
    "def octal(n):\n",
    "    print(octal(n))\n",
    "def hexadecimal(n):\n",
    "    print(hexadecimal(n))\n",
    "n=int(input())\n",
    "decimaltobinary(n)\n",
    "octal(n)\n",
    "hexadecimal(n)"
   ]
  },
  {
   "cell_type": "code",
   "execution_count": 1,
   "id": "1f09b2f0",
   "metadata": {},
   "outputs": [
    {
     "name": "stdout",
     "output_type": "stream",
     "text": [
      "3\n",
      "6\n",
      "+\n",
      "9\n"
     ]
    }
   ],
   "source": [
    "a=int(input())\n",
    "b=int(input())\n",
    "operator=input()\n",
    "if operator==\"+\":\n",
    "    print(a+b)\n",
    "elif operator==\"-\":\n",
    "    print(a-b)\n",
    "elif operator==\"*\":\n",
    "    print(a*b)\n",
    "elif operator==\"/\":\n",
    "    print(a/b)\n",
    "\n",
    "\n",
    "\n"
   ]
  },
  {
   "cell_type": "code",
   "execution_count": null,
   "id": "9ec05414",
   "metadata": {},
   "outputs": [],
   "source": []
  }
 ],
 "metadata": {
  "kernelspec": {
   "display_name": "Python 3 (ipykernel)",
   "language": "python",
   "name": "python3"
  },
  "language_info": {
   "codemirror_mode": {
    "name": "ipython",
    "version": 3
   },
   "file_extension": ".py",
   "mimetype": "text/x-python",
   "name": "python",
   "nbconvert_exporter": "python",
   "pygments_lexer": "ipython3",
   "version": "3.9.7"
  }
 },
 "nbformat": 4,
 "nbformat_minor": 5
}
